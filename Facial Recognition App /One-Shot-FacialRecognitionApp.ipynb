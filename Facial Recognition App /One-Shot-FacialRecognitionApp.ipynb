{
 "cells": [
  {
   "cell_type": "code",
   "execution_count": 3,
   "metadata": {},
   "outputs": [],
   "source": [
    "import cv2 \n",
    "import os\n",
    "import random\n",
    "import matplotlib.pyplot as plt\n",
    "import numpy as np"
   ]
  },
  {
   "cell_type": "code",
   "execution_count": 4,
   "metadata": {},
   "outputs": [],
   "source": [
    "# tensorflow dependencies \n",
    "\n",
    "from tensorflow.keras.models import Model\n",
    "from tensorflow.keras.layers import Layer, Conv2D, Dense, MaxPooling2D, Input, Flatten\n",
    "import tensorflow as tf"
   ]
  },
  {
   "cell_type": "code",
   "execution_count": null,
   "metadata": {},
   "outputs": [],
   "source": [
    "# gpus = tf.config.experimental.list_physical_devices('GPU')\n",
    "# for gpu in gpus:\n",
    "#     tf.config.experimental.set_memory_growth(gpu, True)\n"
   ]
  },
  {
   "cell_type": "code",
   "execution_count": 6,
   "metadata": {},
   "outputs": [],
   "source": [
    "POS_PATH = os.path.join('data', 'positive')\n",
    "NEG_PATH = os.path.join('data', 'negative')\n",
    "ANC_PATH = os.path.join('data', 'anchor')"
   ]
  },
  {
   "cell_type": "code",
   "execution_count": null,
   "metadata": {},
   "outputs": [],
   "source": [
    "os.makedirs(POS_PATH)\n",
    "os.makedirs(NEG_PATH)\n",
    "os.makedirs(ANC_PATH)"
   ]
  },
  {
   "cell_type": "code",
   "execution_count": null,
   "metadata": {},
   "outputs": [],
   "source": [
    "# uncompress Tar GZ Labelled Faces in the Wild Dataser\n",
    "!tar -xf lfw.tgz"
   ]
  },
  {
   "cell_type": "code",
   "execution_count": null,
   "metadata": {},
   "outputs": [],
   "source": [
    "# move LFW Img to the following dir\n",
    "for directory in os.listdir('lfw'):\n",
    "    for file in os.listdir(os.path.join('lfw', directory)):\n",
    "        EX_PATH = os.path.join('lfw', directory, file)\n",
    "        NEW_PATH = os.path.join(NEG_PATH, file)\n",
    "        os.replace(EX_PATH, NEW_PATH)"
   ]
  },
  {
   "cell_type": "code",
   "execution_count": null,
   "metadata": {},
   "outputs": [],
   "source": [
    "import uuid # create unique id"
   ]
  },
  {
   "cell_type": "code",
   "execution_count": null,
   "metadata": {},
   "outputs": [],
   "source": [
    "cap = cv2.VideoCapture(0)\n",
    "while cap.isOpened():\n",
    "    ret, frame = cap.read()\n",
    "    frame = frame[190:190+250, 430:430+250, :]\n",
    "\n",
    "    #collect anchors \n",
    "    if cv2.waitKey(1) & 0xFF == ord('a'):\n",
    "        imgname = os.path.join(ANC_PATH, '{}.jpg'.format(uuid.uuid1())) # Create the unique file path\n",
    "        cv2.imwrite(imgname, frame) # Write out anchor image\n",
    "\n",
    "    #collect positive\n",
    "    if cv2.waitKey(1) & 0xFF == ord('p'):\n",
    "        imgname = os.path.join(POS_PATH, '{}.jpg'.format(uuid.uuid1())) # Create the unique file path\n",
    "        cv2.imwrite(imgname, frame) # Write out anchor image\n",
    "\n",
    "    # image back on screen\n",
    "    cv2.imshow('Image Collection', frame)\n",
    "\n",
    "    if cv2.waitKey(1) & 0xFF == ord('q'):\n",
    "        break\n",
    "cap.release()\n",
    "cv2.destroyAllWindows()"
   ]
  },
  {
   "attachments": {},
   "cell_type": "markdown",
   "metadata": {},
   "source": [
    "# Load and preprocess images"
   ]
  },
  {
   "cell_type": "code",
   "execution_count": 7,
   "metadata": {},
   "outputs": [],
   "source": [
    "anchor = tf.data.Dataset.list_files(ANC_PATH+'/*.jpg').take(400)\n",
    "positive = tf.data.Dataset.list_files(POS_PATH+'/*.jpg').take(400)\n",
    "negative = tf.data.Dataset.list_files(NEG_PATH+'/*.jpg').take(400)"
   ]
  },
  {
   "cell_type": "code",
   "execution_count": 8,
   "metadata": {},
   "outputs": [],
   "source": [
    "dir_test = anchor.as_numpy_iterator()"
   ]
  },
  {
   "cell_type": "code",
   "execution_count": 9,
   "metadata": {},
   "outputs": [],
   "source": [
    "def preprocess(file_path):\n",
    "    byte_img = tf.io.read_file(file_path)\n",
    "    img = tf.io.decode_jpeg(byte_img) # load in the image\n",
    "\n",
    "    # preprocess\n",
    "    img = tf.image.resize(img, (100, 100))\n",
    "    img /= 255.0\n",
    "    return img\n",
    "    "
   ]
  },
  {
   "cell_type": "code",
   "execution_count": 10,
   "metadata": {},
   "outputs": [],
   "source": [
    "# Create Labelled Dataser\n",
    "\n",
    "positives = tf.data.Dataset.zip((anchor, positive, tf.data.Dataset.from_tensor_slices(tf.ones(len(anchor)))))\n",
    "negatives = tf.data.Dataset.zip((anchor, negative, tf.data.Dataset.from_tensor_slices(tf.zeros(len(anchor)))))\n",
    "data = positives.concatenate(negatives)\n"
   ]
  },
  {
   "cell_type": "code",
   "execution_count": 14,
   "metadata": {},
   "outputs": [],
   "source": [
    "samples = data.as_numpy_iterator()"
   ]
  },
  {
   "cell_type": "code",
   "execution_count": 17,
   "metadata": {},
   "outputs": [
    {
     "data": {
      "text/plain": [
       "(b'data/anchor/1d410ad2-0d5e-11ee-9356-bedbc1d9773b.jpg',\n",
       " b'data/positive/ffbeffc2-0d5e-11ee-9356-bedbc1d9773b.jpg',\n",
       " 1.0)"
      ]
     },
     "execution_count": 17,
     "metadata": {},
     "output_type": "execute_result"
    }
   ],
   "source": [
    "exampple = samples.next()\n",
    "exampple"
   ]
  },
  {
   "cell_type": "markdown",
   "metadata": {},
   "source": [
    "# Build Train and Test Partition  "
   ]
  },
  {
   "cell_type": "code",
   "execution_count": 13,
   "metadata": {},
   "outputs": [],
   "source": [
    "def preprocess_twin(input_img, validation_img, label):\n",
    "    return (preprocess(input_img), preprocess(validation_img), label)"
   ]
  },
  {
   "cell_type": "code",
   "execution_count": 18,
   "metadata": {},
   "outputs": [],
   "source": [
    "res = preprocess_twin(*exampple)"
   ]
  },
  {
   "cell_type": "code",
   "execution_count": 28,
   "metadata": {},
   "outputs": [
    {
     "data": {
      "text/plain": [
       "1.0"
      ]
     },
     "execution_count": 28,
     "metadata": {},
     "output_type": "execute_result"
    }
   ],
   "source": [
    "res[2]"
   ]
  },
  {
   "cell_type": "markdown",
   "metadata": {},
   "source": [
    "# Build data pipeline"
   ]
  },
  {
   "cell_type": "code",
   "execution_count": 29,
   "metadata": {},
   "outputs": [],
   "source": [
    "data = data.map(preprocess_twin)\n",
    "data = data.cache() \n",
    "data = data.shuffle(buffer_size=1024)"
   ]
  },
  {
   "cell_type": "code",
   "execution_count": 31,
   "metadata": {},
   "outputs": [
    {
     "data": {
      "text/plain": [
       "(array([[[0.5852941 , 0.5539216 , 0.5107843 ],\n",
       "         [0.5776961 , 0.54632354, 0.5012255 ],\n",
       "         [0.577451  , 0.55196077, 0.49803922],\n",
       "         ...,\n",
       "         [0.6605392 , 0.6252451 , 0.55857843],\n",
       "         [0.64460784, 0.61519605, 0.54558825],\n",
       "         [0.6404412 , 0.6129902 , 0.54240197]],\n",
       " \n",
       "        [[0.57916665, 0.5477941 , 0.5026961 ],\n",
       "         [0.56666666, 0.5387255 , 0.48602942],\n",
       "         [0.589951  , 0.56642157, 0.5115196 ],\n",
       "         ...,\n",
       "         [0.65612745, 0.6286765 , 0.55710787],\n",
       "         [0.63014704, 0.60269606, 0.53186274],\n",
       "         [0.6460784 , 0.6186274 , 0.5480392 ]],\n",
       " \n",
       "        [[0.5767157 , 0.5512255 , 0.49730393],\n",
       "         [0.5808824 , 0.55735296, 0.49656862],\n",
       "         [0.5757353 , 0.55220586, 0.49142158],\n",
       "         ...,\n",
       "         [0.6340686 , 0.6066176 , 0.53210783],\n",
       "         [0.6487745 , 0.6213235 , 0.547549  ],\n",
       "         [0.64705884, 0.61960787, 0.54901963]],\n",
       " \n",
       "        ...,\n",
       " \n",
       "        [[0.35465688, 0.35465688, 0.30882353],\n",
       "         [0.1504902 , 0.16004902, 0.11299019],\n",
       "         [0.10588235, 0.12867647, 0.09019608],\n",
       "         ...,\n",
       "         [0.05269608, 0.07401961, 0.06029412],\n",
       "         [0.06519608, 0.08872549, 0.08088236],\n",
       "         [0.06078431, 0.0872549 , 0.08627451]],\n",
       " \n",
       "        [[0.17156863, 0.18970588, 0.1502451 ],\n",
       "         [0.12181372, 0.14019608, 0.11053921],\n",
       "         [0.10122549, 0.12696078, 0.09803922],\n",
       "         ...,\n",
       "         [0.05196078, 0.0754902 , 0.06176471],\n",
       "         [0.0495098 , 0.07965686, 0.06960785],\n",
       "         [0.06176471, 0.09705883, 0.09313726]],\n",
       " \n",
       "        [[0.13553922, 0.1629902 , 0.13553922],\n",
       "         [0.10490196, 0.13235295, 0.10490196],\n",
       "         [0.11397059, 0.14142157, 0.11397059],\n",
       "         ...,\n",
       "         [0.05882353, 0.08529412, 0.07058824],\n",
       "         [0.05220588, 0.0875    , 0.07573529],\n",
       "         [0.05318628, 0.08848039, 0.07671569]]], dtype=float32),\n",
       " array([[[0.39313725, 0.50980395, 0.47549018],\n",
       "         [0.42034313, 0.5421569 , 0.51642156],\n",
       "         [0.6509804 , 0.7747549 , 0.7848039 ],\n",
       "         ...,\n",
       "         [0.6580882 , 0.7757353 , 0.42671567],\n",
       "         [0.3781863 , 0.5007353 , 0.18161765],\n",
       "         [0.39534312, 0.5210784 , 0.19166666]],\n",
       " \n",
       "        [[0.3632353 , 0.4776961 , 0.3855392 ],\n",
       "         [0.24191177, 0.3644608 , 0.29093137],\n",
       "         [0.389951  , 0.5115196 , 0.48284313],\n",
       "         ...,\n",
       "         [0.5776961 , 0.7139706 , 0.35367647],\n",
       "         [0.35661766, 0.48406863, 0.19117647],\n",
       "         [0.36666667, 0.49215686, 0.21421568]],\n",
       " \n",
       "        [[0.32843137, 0.4392157 , 0.3382353 ],\n",
       "         [0.34264705, 0.45931372, 0.36568627],\n",
       "         [0.29362744, 0.40637255, 0.35343137],\n",
       "         ...,\n",
       "         [0.3379902 , 0.4870098 , 0.13455883],\n",
       "         [0.39264706, 0.525     , 0.27892157],\n",
       "         [0.55465686, 0.68039215, 0.48235294]],\n",
       " \n",
       "        ...,\n",
       " \n",
       "        [[0.        , 0.        , 0.        ],\n",
       "         [0.        , 0.        , 0.01078431],\n",
       "         [0.        , 0.        , 0.01960784],\n",
       "         ...,\n",
       "         [0.00563726, 0.01544118, 0.03578432],\n",
       "         [0.01078431, 0.01985294, 0.05196078],\n",
       "         [0.01862745, 0.02745098, 0.06176471]],\n",
       " \n",
       "        [[0.        , 0.        , 0.        ],\n",
       "         [0.00318627, 0.        , 0.01985294],\n",
       "         [0.00612745, 0.00220588, 0.02720588],\n",
       "         ...,\n",
       "         [0.00514706, 0.00612745, 0.01764706],\n",
       "         [0.0120098 , 0.00931373, 0.03333334],\n",
       "         [0.04583333, 0.04289216, 0.07426471]],\n",
       " \n",
       "        [[0.00294118, 0.00294118, 0.00294118],\n",
       "         [0.00294118, 0.00196078, 0.02156863],\n",
       "         [0.01078431, 0.00686275, 0.0382353 ],\n",
       "         ...,\n",
       "         [0.00686275, 0.00686275, 0.00882353],\n",
       "         [0.01372549, 0.01004902, 0.03186275],\n",
       "         [0.04509804, 0.04117647, 0.07254902]]], dtype=float32),\n",
       " 0.0)"
      ]
     },
     "execution_count": 31,
     "metadata": {},
     "output_type": "execute_result"
    }
   ],
   "source": [
    "samples = data.as_numpy_iterator()\n",
    "samples.next()"
   ]
  },
  {
   "cell_type": "code",
   "execution_count": 87,
   "metadata": {},
   "outputs": [
    {
     "data": {
      "text/plain": [
       "<matplotlib.image.AxesImage at 0x17fda8b80>"
      ]
     },
     "execution_count": 87,
     "metadata": {},
     "output_type": "execute_result"
    },
    {
     "data": {
      "image/png": "[encoded data removed]",
      "text/plain": [
       "<Figure size 640x480 with 1 Axes>"
      ]
     },
     "metadata": {},
     "output_type": "display_data"
    }
   ],
   "source": [
    "sampl = samples.next()\n",
    "plt.imshow(sampl[1])"
   ]
  },
  {
   "cell_type": "code",
   "execution_count": 88,
   "metadata": {},
   "outputs": [
    {
     "data": {
      "text/plain": [
       "0.0"
      ]
     },
     "execution_count": 88,
     "metadata": {},
     "output_type": "execute_result"
    }
   ],
   "source": [
    "sampl[2]"
   ]
  },
  {
   "cell_type": "code",
   "execution_count": 89,
   "metadata": {},
   "outputs": [],
   "source": [
    "# Training partition\n",
    "train_data = data.take(round(len(data)*.7))\n",
    "train_data = train_data.batch(16)\n",
    "train_data = train_data.prefetch(8)"
   ]
  },
  {
   "cell_type": "code",
   "execution_count": 90,
   "metadata": {},
   "outputs": [
    {
     "data": {
      "text/plain": [
       "<_PrefetchDataset element_spec=(TensorSpec(shape=(None, 100, 100, None), dtype=tf.float32, name=None), TensorSpec(shape=(None, 100, 100, None), dtype=tf.float32, name=None), TensorSpec(shape=(None,), dtype=tf.float32, name=None))>"
      ]
     },
     "execution_count": 90,
     "metadata": {},
     "output_type": "execute_result"
    }
   ],
   "source": [
    "train_data"
   ]
  },
  {
   "cell_type": "code",
   "execution_count": 91,
   "metadata": {},
   "outputs": [],
   "source": [
    "# testing partition\n",
    "test_data = data.skip(round(len(data)*.7))\n",
    "test_data = test_data.take(round(len(data)*.3))"
   ]
  },
  {
   "cell_type": "code",
   "execution_count": null,
   "metadata": {},
   "outputs": [],
   "source": []
  }
 ],
 "metadata": {
  "kernelspec": {
   "display_name": "Python 3",
   "language": "python",
   "name": "python3"
  },
  "language_info": {
   "codemirror_mode": {
    "name": "ipython",
    "version": 3
   },
   "file_extension": ".py",
   "mimetype": "text/x-python",
   "name": "python",
   "nbconvert_exporter": "python",
   "pygments_lexer": "ipython3",
   "version": "3.9.6"
  },
  "orig_nbformat": 4
 },
 "nbformat": 4,
 "nbformat_minor": 2
}

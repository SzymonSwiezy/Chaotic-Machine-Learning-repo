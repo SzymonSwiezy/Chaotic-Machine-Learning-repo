{
 "cells": [
  {
   "cell_type": "code",
   "execution_count": 8,
   "metadata": {},
   "outputs": [],
   "source": [
    "import numpy as np\n",
    "import matplotlib.pyplot as plt\n",
    "import tensorflow as tf\n",
    "from tensorflow.python.keras.layers import Dense, Input\n",
    "from tensorflow.python.keras.models import Sequential\n",
    "from tensorflow.python.keras.activations import sigmoid\n"
   ]
  },
  {
   "cell_type": "code",
   "execution_count": 10,
   "metadata": {},
   "outputs": [
    {
     "name": "stdout",
     "output_type": "stream",
     "text": [
      "[[1]\n",
      " [0]\n",
      " [0]\n",
      " [1]]\n"
     ]
    }
   ],
   "source": [
    "x = np.array([[200.0 , 17.0], [120.0, 5.0], [425.0, 20.0], [212.0, 18.0]])\n",
    "y = np.array([[1, 0, 0 ,1]]).T\n",
    "print(y)\n",
    "\n",
    "model = Sequential([Dense(units=3, activation='sigmoid'),Dense(units=1, activation='sigmoid')])\n",
    "# same as\n",
    "# layer_1 = Dense(units=3, activation='sigmoid')\n",
    "# layer_2 = Dense(units=1, activation='sigmoid')\n",
    "# model = Sequential (layer_1, layer_2)\n",
    "\n",
    "# train neural network\n",
    "# model.compile()\n",
    "# model.fit(x,y)\n",
    "# model.predict(x_new)"
   ]
  },
  {
   "cell_type": "code",
   "execution_count": null,
   "metadata": {},
   "outputs": [],
   "source": []
  }
 ],
 "metadata": {
  "kernelspec": {
   "display_name": "Python 3",
   "language": "python",
   "name": "python3"
  },
  "language_info": {
   "codemirror_mode": {
    "name": "ipython",
    "version": 3
   },
   "file_extension": ".py",
   "mimetype": "text/x-python",
   "name": "python",
   "nbconvert_exporter": "python",
   "pygments_lexer": "ipython3",
   "version": "3.10.10"
  },
  "orig_nbformat": 4,
  "vscode": {
   "interpreter": {
    "hash": "034de0e7d1f6013307a37d64b925182a5f6bb187a5a45086dc4dc023fe134b8d"
   }
  }
 },
 "nbformat": 4,
 "nbformat_minor": 2
}

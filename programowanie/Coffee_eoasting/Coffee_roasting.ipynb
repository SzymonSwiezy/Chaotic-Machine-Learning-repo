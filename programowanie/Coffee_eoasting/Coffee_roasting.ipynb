{
 "cells": [
  {
   "cell_type": "code",
   "execution_count": 3,
   "metadata": {},
   "outputs": [],
   "source": [
    "import numpy as np\n",
    "import matplotlib.pyplot as plt\n",
    "import tensorflow as tf\n",
    "from tensorflow.python.keras.layers import Dense, Input\n",
    "from tensorflow.python.keras import Sequential\n",
    "from tensorflow.python.keras.losses import MeanSquaredError, BinaryCrossentropy\n",
    "from tensorflow.python.keras.activations import sigmoid"
   ]
  },
  {
   "cell_type": "code",
   "execution_count": 18,
   "metadata": {},
   "outputs": [
    {
     "name": "stdout",
     "output_type": "stream",
     "text": [
      "wieksza dupa\n"
     ]
    }
   ],
   "source": [
    "x = np.array([[200.0, 17.0]])\n",
    "layer_1 = Dense(units = 3, activation ='sigmoid')\n",
    "a1 = layer_1(x)\n",
    "layer_2 = Dense(units=1, activation='sigmoid')\n",
    "a2 = layer_2(a1)\n",
    "if a2 >= 0.5:\n",
    "    print('dupa')\n",
    "else: print('wieksza dupa')\n"
   ]
  },
  {
   "cell_type": "code",
   "execution_count": null,
   "metadata": {},
   "outputs": [],
   "source": []
  },
  {
   "cell_type": "code",
   "execution_count": null,
   "metadata": {},
   "outputs": [],
   "source": []
  }
 ],
 "metadata": {
  "kernelspec": {
   "display_name": "Python 3",
   "language": "python",
   "name": "python3"
  },
  "language_info": {
   "codemirror_mode": {
    "name": "ipython",
    "version": 3
   },
   "file_extension": ".py",
   "mimetype": "text/x-python",
   "name": "python",
   "nbconvert_exporter": "python",
   "pygments_lexer": "ipython3",
   "version": "3.11.1"
  },
  "orig_nbformat": 4,
  "vscode": {
   "interpreter": {
    "hash": "5238573367df39f7286bb46f9ff5f08f63a01a80960060ce41e3c79b190280fa"
   }
  }
 },
 "nbformat": 4,
 "nbformat_minor": 2
}

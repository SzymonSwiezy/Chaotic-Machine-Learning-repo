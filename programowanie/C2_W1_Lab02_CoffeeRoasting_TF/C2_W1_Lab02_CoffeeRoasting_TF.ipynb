{
 "cells": [
  {
   "cell_type": "code",
   "execution_count": null,
   "metadata": {},
   "outputs": [],
   "source": []
  }
 ],
 "metadata": {
  "kernelspec": {
   "display_name": "Python 3",
   "language": "python",
   "name": "python3"
  },
  "language_info": {
   "name": "python",
   "version": "3.10.10"
  },
  "orig_nbformat": 4,
  "vscode": {
   "interpreter": {
    "hash": "034de0e7d1f6013307a37d64b925182a5f6bb187a5a45086dc4dc023fe134b8d"
   }
  }
 },
 "nbformat": 4,
 "nbformat_minor": 2
}

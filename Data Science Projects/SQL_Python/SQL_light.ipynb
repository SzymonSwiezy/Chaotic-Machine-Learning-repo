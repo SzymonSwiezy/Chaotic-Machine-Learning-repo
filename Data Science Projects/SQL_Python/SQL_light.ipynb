{
 "cells": [
  {
   "cell_type": "code",
   "execution_count": 1,
   "metadata": {},
   "outputs": [],
   "source": [
    "import sqlite3\n",
    "import pandas as pd\n"
   ]
  },
  {
   "attachments": {},
   "cell_type": "markdown",
   "metadata": {},
   "source": [
    "# Create Database"
   ]
  },
  {
   "cell_type": "code",
   "execution_count": 2,
   "metadata": {},
   "outputs": [
    {
     "name": "stdout",
     "output_type": "stream",
     "text": [
      "table students already exists\n"
     ]
    }
   ],
   "source": [
    "connection = sqlite3.connect('student.db')\n",
    "\n",
    "#Create a table\n",
    "sql_create_table = \"\"\"\n",
    "CREATE TABLE students (\n",
    "    student_id TEXT PRIMARY KEY,\n",
    "    student_name TEXT NOT NULL,\n",
    "    gender TEXT,\n",
    "    major TEXT,\n",
    "    year_enrolelr INTEGER,\n",
    "    email TEXT UNIQUE\n",
    ")\n",
    "\"\"\"\n",
    "cursor = connection.cursor()\n",
    "\n",
    "try:\n",
    "    cursor.execute(sql_create_table)\n",
    "    cursor.commit()\n",
    "except Exception as e:\n",
    "    print(e)\n",
    "    connection.rollback()\n",
    "\n",
    "\n"
   ]
  },
  {
   "attachments": {},
   "cell_type": "markdown",
   "metadata": {},
   "source": [
    "# Insert Values into our database "
   ]
  },
  {
   "cell_type": "code",
   "execution_count": 13,
   "metadata": {},
   "outputs": [
    {
     "ename": "IntegrityError",
     "evalue": "UNIQUE constraint failed: students.email",
     "output_type": "error",
     "traceback": [
      "\u001b[1;31m---------------------------------------------------------------------------\u001b[0m",
      "\u001b[1;31mIntegrityError\u001b[0m                            Traceback (most recent call last)",
      "Cell \u001b[1;32mIn[13], line 3\u001b[0m\n\u001b[0;32m      1\u001b[0m \u001b[39m# Insert records\u001b[39;00m\n\u001b[0;32m      2\u001b[0m cursor \u001b[39m=\u001b[39m connection\u001b[39m.\u001b[39mcursor()\n\u001b[1;32m----> 3\u001b[0m cursor\u001b[39m.\u001b[39;49mexecute(\u001b[39m\"\u001b[39;49m\u001b[39mINSERT INTO students VALUES (\u001b[39;49m\u001b[39m'\u001b[39;49m\u001b[39mA10011\u001b[39;49m\u001b[39m'\u001b[39;49m\u001b[39m,\u001b[39;49m\u001b[39m'\u001b[39;49m\u001b[39mstudent_name1\u001b[39;49m\u001b[39m'\u001b[39;49m\u001b[39m,\u001b[39;49m\u001b[39m'\u001b[39;49m\u001b[39mM\u001b[39;49m\u001b[39m'\u001b[39;49m\u001b[39m,\u001b[39;49m\u001b[39m'\u001b[39;49m\u001b[39mComputer Science\u001b[39;49m\u001b[39m'\u001b[39;49m\u001b[39m,2022,\u001b[39;49m\u001b[39m'\u001b[39;49m\u001b[39memail11@gmail.com\u001b[39;49m\u001b[39m'\u001b[39;49m\u001b[39m)\u001b[39;49m\u001b[39m\"\u001b[39;49m)\n\u001b[0;32m      4\u001b[0m cursor\u001b[39m.\u001b[39mexecute(\u001b[39m\"\u001b[39m\u001b[39mINSERT INTO students VALUES (\u001b[39m\u001b[39m'\u001b[39m\u001b[39mA10013\u001b[39m\u001b[39m'\u001b[39m\u001b[39m,\u001b[39m\u001b[39m'\u001b[39m\u001b[39mstudent_name3\u001b[39m\u001b[39m'\u001b[39m\u001b[39m,\u001b[39m\u001b[39m'\u001b[39m\u001b[39mM\u001b[39m\u001b[39m'\u001b[39m\u001b[39m,\u001b[39m\u001b[39m'\u001b[39m\u001b[39mEnglish\u001b[39m\u001b[39m'\u001b[39m\u001b[39m,2018,\u001b[39m\u001b[39m'\u001b[39m\u001b[39memail13@gmail.com\u001b[39m\u001b[39m'\u001b[39m\u001b[39m)\u001b[39m\u001b[39m\"\u001b[39m)\n\u001b[0;32m      5\u001b[0m cursor\u001b[39m.\u001b[39mexecute(\u001b[39m\"\u001b[39m\u001b[39mINSERT INTO students VALUES (\u001b[39m\u001b[39m'\u001b[39m\u001b[39mA10012\u001b[39m\u001b[39m'\u001b[39m\u001b[39m,\u001b[39m\u001b[39m'\u001b[39m\u001b[39mstudent_name2\u001b[39m\u001b[39m'\u001b[39m\u001b[39m,\u001b[39m\u001b[39m'\u001b[39m\u001b[39mF\u001b[39m\u001b[39m'\u001b[39m\u001b[39m,\u001b[39m\u001b[39m'\u001b[39m\u001b[39mBiology\u001b[39m\u001b[39m'\u001b[39m\u001b[39m,2021,\u001b[39m\u001b[39m'\u001b[39m\u001b[39memail12@gmail.com\u001b[39m\u001b[39m'\u001b[39m\u001b[39m)\u001b[39m\u001b[39m\"\u001b[39m)\n",
      "\u001b[1;31mIntegrityError\u001b[0m: UNIQUE constraint failed: students.email"
     ]
    }
   ],
   "source": [
    "# Insert records\n",
    "cursor = connection.cursor()\n",
    "cursor.execute(\"INSERT INTO students VALUES ('A10011','student_name1','M','Computer Science',2022,'email11@gmail.com')\")\n",
    "cursor.execute(\"INSERT INTO students VALUES ('A10013','student_name3','M','English',2018,'email13@gmail.com')\")\n",
    "cursor.execute(\"INSERT INTO students VALUES ('A10012','student_name2','F','Biology',2021,'email12@gmail.com')\")\n",
    "cursor.execute(\"INSERT INTO students VALUES ('A10014','student_name4','M','Accounting',2018,'email14@gmail.com')\")\n",
    "cursor.execute(\"INSERT INTO students VALUES ('A10015','student_name5','F','Marketing',2019,'email15@gmail.com')\")\n",
    "cursor.execute(\"INSERT INTO students VALUES ('A10016','student_name6','F','Sociology',2022,'email16@gmail.com')\")\n",
    "connection.commit()\n"
   ]
  },
  {
   "cell_type": "code",
   "execution_count": 3,
   "metadata": {},
   "outputs": [
    {
     "name": "stdout",
     "output_type": "stream",
     "text": [
      "('A10011', 'student_name1', 'M', 'Computer Science', 2022, 'email11@gmail.com')\n",
      "('A10013', 'student_name3', 'M', 'English', 2018, 'email13@gmail.com')\n",
      "('A10012', 'student_name2', 'F', 'Biology', 2021, 'email12@gmail.com')\n",
      "('A10014', 'student_name4', 'M', 'Accounting', 2018, 'email14@gmail.com')\n",
      "('A10015', 'student_name5', 'F', 'Marketing', 2019, 'email15@gmail.com')\n",
      "('A10016', 'student_name6', 'F', 'Sociology', 2022, 'email16@gmail.com')\n"
     ]
    }
   ],
   "source": [
    "cursor.execute(\"SELECT * FROM students\")\n",
    "rV = cursor.fetchall()\n",
    "for row in rV:\n",
    "    print(row)"
   ]
  },
  {
   "cell_type": "markdown",
   "metadata": {},
   "source": []
  },
  {
   "cell_type": "code",
   "execution_count": null,
   "metadata": {},
   "outputs": [
    {
     "name": "stderr",
     "output_type": "stream",
     "text": [
      "UsageError: Line magic function `%sql` not found.\n"
     ]
    }
   ],
   "source": [
    "%load_ext sql"
   ]
  },
  {
   "cell_type": "code",
   "execution_count": null,
   "metadata": {},
   "outputs": [],
   "source": []
  }
 ],
 "metadata": {
  "kernelspec": {
   "display_name": "Python 3",
   "language": "python",
   "name": "python3"
  },
  "language_info": {
   "codemirror_mode": {
    "name": "ipython",
    "version": 3
   },
   "file_extension": ".py",
   "mimetype": "text/x-python",
   "name": "python",
   "nbconvert_exporter": "python",
   "pygments_lexer": "ipython3",
   "version": "3.11.1"
  },
  "orig_nbformat": 4
 },
 "nbformat": 4,
 "nbformat_minor": 2
}

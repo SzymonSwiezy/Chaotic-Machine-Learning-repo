{
 "cells": [
  {
   "cell_type": "code",
   "execution_count": 6,
   "metadata": {},
   "outputs": [],
   "source": [
    "import mysql.connector"
   ]
  },
  {
   "attachments": {},
   "cell_type": "markdown",
   "metadata": {},
   "source": [
    "# Connect to out Database and create cursor"
   ]
  },
  {
   "cell_type": "code",
   "execution_count": 7,
   "metadata": {},
   "outputs": [
    {
     "ename": "ProgrammingError",
     "evalue": "1049 (42000): Unknown database 'testdb'",
     "output_type": "error",
     "traceback": [
      "\u001b[1;31m---------------------------------------------------------------------------\u001b[0m",
      "\u001b[1;31mProgrammingError\u001b[0m                          Traceback (most recent call last)",
      "Cell \u001b[1;32mIn[7], line 1\u001b[0m\n\u001b[1;32m----> 1\u001b[0m mydb \u001b[39m=\u001b[39m mysql\u001b[39m.\u001b[39;49mconnector\u001b[39m.\u001b[39;49mconnect(\n\u001b[0;32m      2\u001b[0m     host \u001b[39m=\u001b[39;49m \u001b[39m\"\u001b[39;49m\u001b[39mlocalhost\u001b[39;49m\u001b[39m\"\u001b[39;49m,\n\u001b[0;32m      3\u001b[0m     user \u001b[39m=\u001b[39;49m \u001b[39m\"\u001b[39;49m\u001b[39mroot\u001b[39;49m\u001b[39m\"\u001b[39;49m,\n\u001b[0;32m      4\u001b[0m     passwd \u001b[39m=\u001b[39;49m \u001b[39m\"\u001b[39;49m\u001b[39m\"\u001b[39;49m,\n\u001b[0;32m      5\u001b[0m     database \u001b[39m=\u001b[39;49m \u001b[39m\"\u001b[39;49m\u001b[39mtestdb\u001b[39;49m\u001b[39m\"\u001b[39;49m \u001b[39m# Select your database\u001b[39;49;00m\n\u001b[0;32m      6\u001b[0m )\n\u001b[0;32m      7\u001b[0m mycoursor \u001b[39m=\u001b[39m mydb\u001b[39m.\u001b[39mcursor()\n",
      "File \u001b[1;32m~\\AppData\\Roaming\\Python\\Python311\\site-packages\\mysql\\connector\\pooling.py:294\u001b[0m, in \u001b[0;36mconnect\u001b[1;34m(*args, **kwargs)\u001b[0m\n\u001b[0;32m    292\u001b[0m \u001b[39mif\u001b[39;00m CMySQLConnection \u001b[39mand\u001b[39;00m \u001b[39mnot\u001b[39;00m use_pure:\n\u001b[0;32m    293\u001b[0m     \u001b[39mreturn\u001b[39;00m CMySQLConnection(\u001b[39m*\u001b[39margs, \u001b[39m*\u001b[39m\u001b[39m*\u001b[39mkwargs)\n\u001b[1;32m--> 294\u001b[0m \u001b[39mreturn\u001b[39;00m MySQLConnection(\u001b[39m*\u001b[39;49margs, \u001b[39m*\u001b[39;49m\u001b[39m*\u001b[39;49mkwargs)\n",
      "File \u001b[1;32m~\\AppData\\Roaming\\Python\\Python311\\site-packages\\mysql\\connector\\connection.py:164\u001b[0m, in \u001b[0;36mMySQLConnection.__init__\u001b[1;34m(self, **kwargs)\u001b[0m\n\u001b[0;32m    162\u001b[0m \u001b[39mif\u001b[39;00m kwargs:\n\u001b[0;32m    163\u001b[0m     \u001b[39mtry\u001b[39;00m:\n\u001b[1;32m--> 164\u001b[0m         \u001b[39mself\u001b[39;49m\u001b[39m.\u001b[39;49mconnect(\u001b[39m*\u001b[39;49m\u001b[39m*\u001b[39;49mkwargs)\n\u001b[0;32m    165\u001b[0m     \u001b[39mexcept\u001b[39;00m \u001b[39mException\u001b[39;00m:\n\u001b[0;32m    166\u001b[0m         \u001b[39m# Tidy-up underlying socket on failure\u001b[39;00m\n\u001b[0;32m    167\u001b[0m         \u001b[39mself\u001b[39m\u001b[39m.\u001b[39mclose()\n",
      "File \u001b[1;32m~\\AppData\\Roaming\\Python\\Python311\\site-packages\\mysql\\connector\\abstracts.py:1181\u001b[0m, in \u001b[0;36mMySQLConnectionAbstract.connect\u001b[1;34m(self, **kwargs)\u001b[0m\n\u001b[0;32m   1178\u001b[0m     \u001b[39mself\u001b[39m\u001b[39m.\u001b[39mconfig(\u001b[39m*\u001b[39m\u001b[39m*\u001b[39mkwargs)\n\u001b[0;32m   1180\u001b[0m \u001b[39mself\u001b[39m\u001b[39m.\u001b[39mdisconnect()\n\u001b[1;32m-> 1181\u001b[0m \u001b[39mself\u001b[39;49m\u001b[39m.\u001b[39;49m_open_connection()\n\u001b[0;32m   1182\u001b[0m \u001b[39m# Server does not allow to run any other statement different from ALTER\u001b[39;00m\n\u001b[0;32m   1183\u001b[0m \u001b[39m# when user's password has been expired.\u001b[39;00m\n\u001b[0;32m   1184\u001b[0m \u001b[39mif\u001b[39;00m \u001b[39mnot\u001b[39;00m \u001b[39mself\u001b[39m\u001b[39m.\u001b[39m_client_flags \u001b[39m&\u001b[39m ClientFlag\u001b[39m.\u001b[39mCAN_HANDLE_EXPIRED_PASSWORDS:\n",
      "File \u001b[1;32m~\\AppData\\Roaming\\Python\\Python311\\site-packages\\mysql\\connector\\connection.py:572\u001b[0m, in \u001b[0;36mMySQLConnection._open_connection\u001b[1;34m(self)\u001b[0m\n\u001b[0;32m    570\u001b[0m \u001b[39mself\u001b[39m\u001b[39m.\u001b[39m_socket\u001b[39m.\u001b[39mopen_connection()\n\u001b[0;32m    571\u001b[0m \u001b[39mself\u001b[39m\u001b[39m.\u001b[39m_do_handshake()\n\u001b[1;32m--> 572\u001b[0m \u001b[39mself\u001b[39;49m\u001b[39m.\u001b[39;49m_do_auth(\n\u001b[0;32m    573\u001b[0m     \u001b[39mself\u001b[39;49m\u001b[39m.\u001b[39;49m_user,\n\u001b[0;32m    574\u001b[0m     \u001b[39mself\u001b[39;49m\u001b[39m.\u001b[39;49m_password,\n\u001b[0;32m    575\u001b[0m     \u001b[39mself\u001b[39;49m\u001b[39m.\u001b[39;49m_database,\n\u001b[0;32m    576\u001b[0m     \u001b[39mself\u001b[39;49m\u001b[39m.\u001b[39;49m_client_flags,\n\u001b[0;32m    577\u001b[0m     \u001b[39mself\u001b[39;49m\u001b[39m.\u001b[39;49m_charset_id,\n\u001b[0;32m    578\u001b[0m     \u001b[39mself\u001b[39;49m\u001b[39m.\u001b[39;49m_ssl,\n\u001b[0;32m    579\u001b[0m     \u001b[39mself\u001b[39;49m\u001b[39m.\u001b[39;49m_conn_attrs,\n\u001b[0;32m    580\u001b[0m )\n\u001b[0;32m    581\u001b[0m \u001b[39mself\u001b[39m\u001b[39m.\u001b[39mset_converter_class(\u001b[39mself\u001b[39m\u001b[39m.\u001b[39m_converter_class)\n\u001b[0;32m    582\u001b[0m \u001b[39mif\u001b[39;00m \u001b[39mself\u001b[39m\u001b[39m.\u001b[39m_client_flags \u001b[39m&\u001b[39m ClientFlag\u001b[39m.\u001b[39mCOMPRESS:\n",
      "File \u001b[1;32m~\\AppData\\Roaming\\Python\\Python311\\site-packages\\mysql\\connector\\connection.py:309\u001b[0m, in \u001b[0;36mMySQLConnection._do_auth\u001b[1;34m(self, username, password, database, client_flags, charset, ssl_options, conn_attrs)\u001b[0m\n\u001b[0;32m    296\u001b[0m packet \u001b[39m=\u001b[39m \u001b[39mself\u001b[39m\u001b[39m.\u001b[39m_protocol\u001b[39m.\u001b[39mmake_auth(\n\u001b[0;32m    297\u001b[0m     handshake\u001b[39m=\u001b[39m\u001b[39mself\u001b[39m\u001b[39m.\u001b[39m_handshake,\n\u001b[0;32m    298\u001b[0m     username\u001b[39m=\u001b[39musername,\n\u001b[1;32m   (...)\u001b[0m\n\u001b[0;32m    306\u001b[0m     auth_plugin_class\u001b[39m=\u001b[39m\u001b[39mself\u001b[39m\u001b[39m.\u001b[39m_auth_plugin_class,\n\u001b[0;32m    307\u001b[0m )\n\u001b[0;32m    308\u001b[0m \u001b[39mself\u001b[39m\u001b[39m.\u001b[39m_socket\u001b[39m.\u001b[39msend(packet)\n\u001b[1;32m--> 309\u001b[0m \u001b[39mself\u001b[39;49m\u001b[39m.\u001b[39;49m_auth_switch_request(username, password)\n\u001b[0;32m    311\u001b[0m \u001b[39mif\u001b[39;00m \u001b[39mnot\u001b[39;00m (client_flags \u001b[39m&\u001b[39m ClientFlag\u001b[39m.\u001b[39mCONNECT_WITH_DB) \u001b[39mand\u001b[39;00m database:\n\u001b[0;32m    312\u001b[0m     \u001b[39mself\u001b[39m\u001b[39m.\u001b[39mcmd_init_db(database)\n",
      "File \u001b[1;32m~\\AppData\\Roaming\\Python\\Python311\\site-packages\\mysql\\connector\\connection.py:366\u001b[0m, in \u001b[0;36mMySQLConnection._auth_switch_request\u001b[1;34m(self, username, password)\u001b[0m\n\u001b[0;32m    364\u001b[0m     \u001b[39mreturn\u001b[39;00m \u001b[39mself\u001b[39m\u001b[39m.\u001b[39m_handle_mfa(packet)\n\u001b[0;32m    365\u001b[0m \u001b[39mif\u001b[39;00m packet[\u001b[39m4\u001b[39m] \u001b[39m==\u001b[39m \u001b[39m255\u001b[39m:\n\u001b[1;32m--> 366\u001b[0m     \u001b[39mraise\u001b[39;00m get_exception(packet)\n\u001b[0;32m    367\u001b[0m \u001b[39mreturn\u001b[39;00m \u001b[39mNone\u001b[39;00m\n",
      "\u001b[1;31mProgrammingError\u001b[0m: 1049 (42000): Unknown database 'testdb'"
     ]
    }
   ],
   "source": [
    "mydb = mysql.connector.connect(\n",
    "    host = \"localhost\",\n",
    "    user = \"root\",\n",
    "    passwd = \"\",\n",
    "    database = \"testdb\" # Select your database\n",
    ")\n",
    "mycoursor = mydb.cursor()\n"
   ]
  },
  {
   "attachments": {},
   "cell_type": "markdown",
   "metadata": {},
   "source": [
    "# Create Database "
   ]
  },
  {
   "cell_type": "code",
   "execution_count": null,
   "metadata": {},
   "outputs": [],
   "source": [
    "# Create Database \n",
    "mycoursor.execute(\"CREATE DATABASE testdb\") \n",
    "\n",
    "# Print Databases \n",
    "mycoursor.execute(\"SHOW DATABASES\")\n",
    "for db in mycoursor:\n",
    "    print(db)\n",
    "\n",
    "mycoursor.execute(\"CREATE TABLE students (name VARCHAR(255), age INTEGER(10))\") # Create table"
   ]
  },
  {
   "attachments": {},
   "cell_type": "markdown",
   "metadata": {},
   "source": [
    "# Populating our Database and Table "
   ]
  },
  {
   "cell_type": "code",
   "execution_count": 17,
   "metadata": {},
   "outputs": [],
   "source": [
    "sqlFormula = \"\"\"INSERT INTO students (name, age) VALUES (%s, %s) \"\"\" # Create formula \n",
    "students = [( 'rafał', 14 ), \n",
    "            ( 'michał', 20 ),\n",
    "            (' Beata', 23) ]\n",
    "mycoursor.executemany(sqlFormula, students)\n",
    "\n",
    "mydb.commit()"
   ]
  },
  {
   "attachments": {},
   "cell_type": "markdown",
   "metadata": {},
   "source": [
    "- If you would like to insert single row use mycoursor.execut() metod"
   ]
  },
  {
   "attachments": {},
   "cell_type": "markdown",
   "metadata": {},
   "source": [
    "# Selecting and Getting Data"
   ]
  },
  {
   "cell_type": "code",
   "execution_count": 15,
   "metadata": {},
   "outputs": [
    {
     "name": "stdout",
     "output_type": "stream",
     "text": [
      "('Anna', 21)\n",
      "('Miachał', 21)\n",
      "('BB', 11)\n",
      "('aaa', 21)\n",
      "('BB', 11)\n",
      "('aaa', 21)\n",
      "('rafał', 14)\n",
      "('michał', 20)\n",
      "(' Beata', 23)\n"
     ]
    }
   ],
   "source": [
    "mycoursor.execute(\"SELECT * FROM students\")\n",
    "myresult = mycoursor.fetchall()\n",
    "for row in myresult:\n",
    "    print(row)"
   ]
  },
  {
   "attachments": {},
   "cell_type": "markdown",
   "metadata": {},
   "source": [
    "###### If you would like to retrive one row use mycoursor.fetone()\n",
    "\n",
    "# Query Conditions with WHERE and Wildcards"
   ]
  },
  {
   "cell_type": "code",
   "execution_count": 32,
   "metadata": {},
   "outputs": [
    {
     "name": "stdout",
     "output_type": "stream",
     "text": [
      "('michał', 20)\n"
     ]
    }
   ],
   "source": [
    "sql = \"SELECT * FROM students WHERE name = %s\" # Get result with name starts with M\n",
    "mycoursor.execute(sql, ('michał', ))\n",
    "student22 = mycoursor.fetchall()\n",
    "for row in student22:\n",
    "    print(row)"
   ]
  },
  {
   "attachments": {},
   "cell_type": "markdown",
   "metadata": {},
   "source": [
    "# Updating Entries"
   ]
  },
  {
   "cell_type": "code",
   "execution_count": 17,
   "metadata": {},
   "outputs": [
    {
     "name": "stdout",
     "output_type": "stream",
     "text": [
      "('Anna', 21)\n",
      "('Miachał', 21)\n",
      "('BB', 13)\n",
      "('aaa', 21)\n",
      "('BB', 13)\n",
      "('aaa', 21)\n",
      "('rafał', 14)\n",
      "('michał', 20)\n",
      "(' Beata', 23)\n"
     ]
    }
   ],
   "source": [
    "sql = \"UPDATE students SET age = 13 WHERE name = 'BB'\"\n",
    "mycoursor.execute(sql)\n",
    "mydb.commit()\n",
    "\n",
    "mycoursor.execute(\"SELECT * FROM students\")\n",
    "rV = mycoursor.fetchall()\n",
    "for row in rV:\n",
    "    print(row)\n"
   ]
  },
  {
   "attachments": {},
   "cell_type": "markdown",
   "metadata": {},
   "source": [
    "# Limiting Queries"
   ]
  },
  {
   "cell_type": "code",
   "execution_count": 19,
   "metadata": {},
   "outputs": [
    {
     "name": "stdout",
     "output_type": "stream",
     "text": [
      "('Anna', 21)\n",
      "('Miachał', 21)\n",
      "('BB', 13)\n",
      "('aaa', 21)\n",
      "('BB', 13)\n"
     ]
    }
   ],
   "source": [
    "mycoursor.execute(\"SELECT * FROM students LIMIT 5\")\n",
    "\n",
    "rV = mycoursor.fetchall()\n",
    "for row in rV:\n",
    "    print(row)"
   ]
  },
  {
   "attachments": {},
   "cell_type": "markdown",
   "metadata": {},
   "source": [
    "# Drop our Database "
   ]
  },
  {
   "cell_type": "code",
   "execution_count": 1,
   "metadata": {},
   "outputs": [
    {
     "ename": "NameError",
     "evalue": "name 'mycoursor' is not defined",
     "output_type": "error",
     "traceback": [
      "\u001b[1;31m---------------------------------------------------------------------------\u001b[0m",
      "\u001b[1;31mNameError\u001b[0m                                 Traceback (most recent call last)",
      "Cell \u001b[1;32mIn[1], line 2\u001b[0m\n\u001b[0;32m      1\u001b[0m sql \u001b[39m=\u001b[39m \u001b[39m\"\u001b[39m\u001b[39mDROP DATABASE testdb\u001b[39m\u001b[39m\"\u001b[39m\n\u001b[1;32m----> 2\u001b[0m mycoursor\u001b[39m.\u001b[39mexecute(sql)\n\u001b[0;32m      4\u001b[0m rV \u001b[39m=\u001b[39m mycoursor\u001b[39m.\u001b[39mfetchall()\n\u001b[0;32m      5\u001b[0m \u001b[39mfor\u001b[39;00m row \u001b[39min\u001b[39;00m rV:\n",
      "\u001b[1;31mNameError\u001b[0m: name 'mycoursor' is not defined"
     ]
    }
   ],
   "source": [
    "sql = \"DROP DATABASE testdb\"\n",
    "mycoursor.execute(sql)\n",
    "\n",
    "rV = mycoursor.fetchall()\n",
    "for row in rV:\n",
    "    print(row)"
   ]
  },
  {
   "cell_type": "code",
   "execution_count": null,
   "metadata": {},
   "outputs": [],
   "source": []
  }
 ],
 "metadata": {
  "kernelspec": {
   "display_name": "Python 3",
   "language": "python",
   "name": "python3"
  },
  "language_info": {
   "codemirror_mode": {
    "name": "ipython",
    "version": 3
   },
   "file_extension": ".py",
   "mimetype": "text/x-python",
   "name": "python",
   "nbconvert_exporter": "python",
   "pygments_lexer": "ipython3",
   "version": "3.11.1"
  },
  "orig_nbformat": 4
 },
 "nbformat": 4,
 "nbformat_minor": 2
}

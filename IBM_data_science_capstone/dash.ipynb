{
 "cells": [
  {
   "cell_type": "code",
   "execution_count": 1,
   "metadata": {},
   "outputs": [],
   "source": [
    "import dash\n",
    "import plotly.express as px\n",
    "from dash import html\n",
    "from dash import dcc\n",
    "from dash.dependencies import Output, Input\n",
    "import pandas as pd\n",
    "import dash_bootstrap_components as dbc"
   ]
  },
  {
   "cell_type": "code",
   "execution_count": 2,
   "metadata": {},
   "outputs": [],
   "source": [
    "df = pd.read_csv(r'C:\\Users\\syzmon\\Desktop\\IBM data science capstone\\db.csv')\n",
    "df.head()\n",
    "ml_class = df[\"CLASS\"].unique()"
   ]
  },
  {
   "cell_type": "code",
   "execution_count": 3,
   "metadata": {},
   "outputs": [],
   "source": [
    "app = dash.Dash(__name__, external_stylesheets=[dbc.themes.LUX])\n",
    "app.config.suppress_callback_exceptions = True\n"
   ]
  },
  {
   "cell_type": "code",
   "execution_count": 4,
   "metadata": {},
   "outputs": [],
   "source": [
    "app.layout=dbc.Container([\n",
    "    dbc.Row([\n",
    "        dbc.Col(html.H1(\"Meteorite Landings from NASA dataset\", className='text-center text-primary, mb-4'),\n",
    "                width=12\n",
    "            )\n",
    "    ]),\n",
    "\n",
    "    dbc.Row([\n",
    "        dbc.Col([\n",
    "            dcc.Dropdown(id='my-dpdn',\n",
    "                        options=[{'label': i, 'value': i} for i in sorted(df['CONTINENT'].unique())],\n",
    "                        placeholder=\"Select continent\",\n",
    "                        style={'width':'80%', 'padding':'3px', 'font-size': '20px', 'text-align-last' : 'center'}),\n",
    "            dcc.Graph(id='line-fig', figure={})], width={'size':6, 'order':1}),\n",
    "\n",
    "        dbc.Col([\n",
    "            dcc.Dropdown(id='my-dpdn2', multi=True, value=['aaaaa', 'nbbbb'],\n",
    "                        options=[{'label': i, 'value': i} for i in sorted(df['CONTINENT'].unique())],\n",
    "                        placeholder=\"Select continent\",\n",
    "                        style={'width':'80%', 'padding':'3px', 'font-size': '20px', 'text-align-last' : 'center'}                         \n",
    "                        ),\n",
    "            dcc.Graph(id='line-fig2', figure={})], width={'size':6, 'order':2})\n",
    "\n",
    "        ]),\n",
    "\n",
    "    dbc.Row([\n",
    "        dbc.Col([\n",
    "            html.P(\"Select Continent:\",\n",
    "                   style={\"textDecoration\": \"underline\"}),\n",
    "            dcc.Checklist(id='my-checklist', value=df['CONTINENT'].unique(),\n",
    "                        options=[{'label': i, 'value': i} for i in sorted(df['CONTINENT'].unique())],\n",
    "                        style={'font-size': '10px'},\n",
    "                        labelClassName='mr-3'\n",
    "                        ),\n",
    "            dcc.Graph(id='my-hist', figure={})\n",
    "        ],width={'size':6, 'offset':3})\n",
    "    ])\n",
    "\n",
    "    ], fluid=True\n",
    ")\n",
    "\n"
   ]
  },
  {
   "cell_type": "code",
   "execution_count": 5,
   "metadata": {},
   "outputs": [
    {
     "name": "stdout",
     "output_type": "stream",
     "text": [
      "Dash is running on http://127.0.0.1:8050/\n",
      "\n",
      " * Serving Flask app '__main__'\n",
      " * Debug mode: off\n"
     ]
    },
    {
     "name": "stderr",
     "output_type": "stream",
     "text": [
      "WARNING: This is a development server. Do not use it in a production deployment. Use a production WSGI server instead.\n",
      " * Running on http://127.0.0.1:8050\n",
      "Press CTRL+C to quit\n",
      "127.0.0.1 - - [31/May/2023 18:07:31] \"GET / HTTP/1.1\" 200 -\n",
      "127.0.0.1 - - [31/May/2023 18:07:32] \"GET /_dash-dependencies HTTP/1.1\" 200 -\n",
      "127.0.0.1 - - [31/May/2023 18:07:32] \"GET /_dash-layout HTTP/1.1\" 200 -\n",
      "127.0.0.1 - - [31/May/2023 18:07:32] \"GET /_dash-component-suites/dash/dcc/async-graph.js HTTP/1.1\" 304 -\n",
      "127.0.0.1 - - [31/May/2023 18:07:32] \"GET /_dash-component-suites/dash/dcc/async-dropdown.js HTTP/1.1\" 304 -\n",
      "127.0.0.1 - - [31/May/2023 18:07:32] \"GET /_dash-component-suites/dash/dcc/async-plotlyjs.js HTTP/1.1\" 304 -\n"
     ]
    }
   ],
   "source": [
    "if __name__ == '__main__':\n",
    "    app.run_server()"
   ]
  },
  {
   "cell_type": "code",
   "execution_count": null,
   "metadata": {},
   "outputs": [],
   "source": []
  }
 ],
 "metadata": {
  "kernelspec": {
   "display_name": "Python 3",
   "language": "python",
   "name": "python3"
  },
  "language_info": {
   "codemirror_mode": {
    "name": "ipython",
    "version": 3
   },
   "file_extension": ".py",
   "mimetype": "text/x-python",
   "name": "python",
   "nbconvert_exporter": "python",
   "pygments_lexer": "ipython3",
   "version": "3.11.1"
  },
  "orig_nbformat": 4
 },
 "nbformat": 4,
 "nbformat_minor": 2
}

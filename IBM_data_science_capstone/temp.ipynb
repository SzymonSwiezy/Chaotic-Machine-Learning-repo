{
 "cells": [
  {
   "cell_type": "code",
   "execution_count": null,
   "metadata": {},
   "outputs": [],
   "source": []
  },
  {
   "cell_type": "code",
   "execution_count": null,
   "metadata": {},
   "outputs": [],
   "source": [
    "df = df.assign(COUNTRY='Nan', CONTINENT='Nan')\n",
    "df4stat = []\n",
    "batch_size = 100\n",
    "wait_time_batch = 10\n",
    "for batch_number, batch_df in df.groupby(np.arange(len(df4stat)) // batch_size):\n",
    "    geolocator = Nominatim(user_agent='trial'+str(randint(0,1000)))\n",
    "    for idx, row in df4stat.iterrows():\n",
    "        location = geolocator.reverse([row['LAT'], row['LONG']], exactly_one=True)\n",
    "        if location is None:\n",
    "            batch_df.loc[idx, 'COUNTRY'] = \"Antarctica\"\n",
    "            batch_df.loc[idx, 'CONTINENT'] = \"Antarctica\"\n",
    "        else:\n",
    "            address = location.raw['address']\n",
    "            batch_df.loc[idx, 'CONTINENT'] = address.get('country', '').upper()\n",
    "\n",
    "            continent_code = address.get('country_code', '').upper()\n",
    "            batch_df.loc[idx, 'CONTINENT']  = continent_dict[pc.country_alpha2_to_continent_code(continent_code)]  \n",
    "            sleep(randint(1*100,wait_time_batch*100)/100)  \n",
    "    df4stat.append(batch_df)\n",
    "pd.DataFrame(df4stat)\n",
    "df4stat.head()"
   ]
  }
 ],
 "metadata": {
  "language_info": {
   "name": "python"
  },
  "orig_nbformat": 4
 },
 "nbformat": 4,
 "nbformat_minor": 2
}

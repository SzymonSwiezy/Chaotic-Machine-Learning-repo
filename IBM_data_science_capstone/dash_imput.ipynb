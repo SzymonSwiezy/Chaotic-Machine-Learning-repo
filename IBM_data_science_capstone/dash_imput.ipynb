{
 "cells": [
  {
   "cell_type": "code",
   "execution_count": 29,
   "metadata": {},
   "outputs": [],
   "source": [
    "import dash\n",
    "import plotly.express as px\n",
    "from dash import html\n",
    "from dash import dcc\n",
    "from dash.dependencies import Output, Input\n",
    "import pandas as pd\n",
    "import dash_bootstrap_components as dbc\n",
    "import numpy as np\n"
   ]
  },
  {
   "cell_type": "code",
   "execution_count": 30,
   "metadata": {},
   "outputs": [],
   "source": [
    "app = dash.Dash(__name__)\n",
    "df = pd.read_csv(r'C:\\Users\\syzmon\\Desktop\\IBM data science capstone\\db.csv')\n",
    "df.head()\n",
    "df4stat = df.groupby(['CONTINENT', 'YEAR'])['ID'].count().reset_index()"
   ]
  },
  {
   "cell_type": "code",
   "execution_count": 31,
   "metadata": {},
   "outputs": [
    {
     "name": "stdout",
     "output_type": "stream",
     "text": [
      "  CONTINENT  YEAR  ID\n",
      "0    Africa  1903   4\n",
      "1    Africa  1907   1\n",
      "2    Africa  1909   1\n",
      "3    Africa  1910   1\n",
      "4    Africa  1911   1\n"
     ]
    },
    {
     "name": "stderr",
     "output_type": "stream",
     "text": [
      "C:\\Users\\syzmon\\AppData\\Local\\Temp\\ipykernel_15224\\3138221435.py:4: FutureWarning:\n",
      "\n",
      "The default value of numeric_only in DataFrameGroupBy.median is deprecated. In a future version, numeric_only will default to False. Either specify numeric_only or select only columns which should be valid for the function.\n",
      "\n"
     ]
    }
   ],
   "source": [
    "print(df4stat[:5])\n",
    "ds_min = df4stat['YEAR'].min()\n",
    "ds_max = df4stat['YEAR'].max()\n",
    "ds_median = df4stat.groupby('YEAR').median()\n",
    "marks={\n",
    "        i: {\n",
    "            \"label\": f\"Year: {i}\",\n",
    "            \"style\": {\"transform\": \"rotate(45deg)\", \"white-space\": \"nowrap\"},\n",
    "        }\n",
    "        for i in range(ds_min, ds_max, 10)\n",
    "}"
   ]
  },
  {
   "cell_type": "code",
   "execution_count": 32,
   "metadata": {},
   "outputs": [],
   "source": [
    "\n",
    "# app.layout = html.Div([\n",
    "#     html.Div([\n",
    "        # dcc.Input(\n",
    "        #     id='my_year',\n",
    "        #     type='number',\n",
    "        #     placeholder=\"insert year\",  # A hint to the user of what can be entered in the control\n",
    "        #     debounce=True,                      # Changes to input are sent to Dash server only on enter or losing focus\n",
    "        #     min=df4stat['YEAR'].min(), max=df4stat['YEAR'].max(), step=1,         # Ranges of numeric value. Step refers to increments\n",
    "        #     minLength=0, maxLength=4,          # Ranges for character length inside input box\n",
    "        #     autoComplete='on',\n",
    "        #     disabled=False,                     # Disable input box\n",
    "        #     readOnly=False,                     # Make input box read only\n",
    "        #     required=True,                      # Require user to insert something into input box\n",
    "        #     size=\"20\"                           # Number of characters that will be visible inside box\n",
    "        # ) ]), \n",
    "#     html.Br(),\n",
    "\n",
    "#     dcc.Graph(id=\"mymap\"),\n",
    "# ])"
   ]
  },
  {
   "cell_type": "code",
   "execution_count": 33,
   "metadata": {},
   "outputs": [],
   "source": [
    "slider = html.Div([\n",
    "        html.Label(\"Select Year\", htmlFor=\"years\"),\n",
    "        dcc.RangeSlider(id='sslider',\n",
    "                        min=ds_min, max=ds_max, step=10, \n",
    "                        value=[df4stat['YEAR'].min(), df4stat['YEAR'].max()],\n",
    "                        updatemode='drag',\n",
    "                        tooltip={\"placement\": 'bottom', \"always_visible\": True},\n",
    "                        marks=marks\n",
    "                       )\n",
    "        ])\n",
    "            \n",
    "app.layout = html.Div([slider, dcc.Graph(id=\"graph\")])"
   ]
  },
  {
   "cell_type": "code",
   "execution_count": 34,
   "metadata": {},
   "outputs": [],
   "source": [
    "@app.callback(\n",
    "    Output(component_id='graph', component_property='figure'),\n",
    "    [Input(component_id='sslider', component_property='value')]\n",
    ")\n",
    "def update_graph(years):\n",
    "    dff = df[df['YEAR']>=years[0]]\n",
    "    dff = dff[dff['YEAR']<=years[1]]\n",
    "    dff = dff.groupby(['CONTINENT', 'YEAR'])['ID'].count().reset_index()\n",
    "\n",
    "\n",
    "    dff = dff.pivot(index='CONTINENT', columns='YEAR')['ID'].fillna(0)\n",
    "    fig=px.imshow(dff, x=dff.columns , y=dff.index)\n",
    "    fig.update_layout(title='aaaaaa', xaxis_title='year', yaxis_title='cont')\n",
    "    return (fig)"
   ]
  },
  {
   "cell_type": "code",
   "execution_count": null,
   "metadata": {},
   "outputs": [],
   "source": []
  },
  {
   "cell_type": "code",
   "execution_count": 35,
   "metadata": {},
   "outputs": [
    {
     "name": "stdout",
     "output_type": "stream",
     "text": [
      "Dash is running on http://127.0.0.1:8050/\n",
      "\n",
      " * Serving Flask app '__main__'\n",
      " * Debug mode: off\n"
     ]
    },
    {
     "name": "stderr",
     "output_type": "stream",
     "text": [
      "WARNING: This is a development server. Do not use it in a production deployment. Use a production WSGI server instead.\n",
      " * Running on http://127.0.0.1:8050\n",
      "Press CTRL+C to quit\n",
      "127.0.0.1 - - [01/Jun/2023 19:43:55] \"GET / HTTP/1.1\" 200 -\n",
      "127.0.0.1 - - [01/Jun/2023 19:43:55] \"GET /_dash-layout HTTP/1.1\" 200 -\n",
      "127.0.0.1 - - [01/Jun/2023 19:43:55] \"GET /_dash-dependencies HTTP/1.1\" 200 -\n",
      "127.0.0.1 - - [01/Jun/2023 19:43:55] \"GET /_dash-component-suites/dash/dcc/async-slider.js HTTP/1.1\" 304 -\n",
      "127.0.0.1 - - [01/Jun/2023 19:43:55] \"GET /_dash-component-suites/dash/dcc/async-graph.js HTTP/1.1\" 304 -\n",
      "127.0.0.1 - - [01/Jun/2023 19:43:55] \"GET /_dash-component-suites/dash/dcc/async-plotlyjs.js HTTP/1.1\" 304 -\n",
      "127.0.0.1 - - [01/Jun/2023 19:43:57] \"POST /_dash-update-component HTTP/1.1\" 200 -\n",
      "127.0.0.1 - - [01/Jun/2023 19:43:59] \"POST /_dash-update-component HTTP/1.1\" 200 -\n",
      "127.0.0.1 - - [01/Jun/2023 19:43:59] \"POST /_dash-update-component HTTP/1.1\" 200 -\n",
      "127.0.0.1 - - [01/Jun/2023 19:43:59] \"POST /_dash-update-component HTTP/1.1\" 200 -\n",
      "127.0.0.1 - - [01/Jun/2023 19:43:59] \"POST /_dash-update-component HTTP/1.1\" 200 -\n",
      "127.0.0.1 - - [01/Jun/2023 19:44:00] \"POST /_dash-update-component HTTP/1.1\" 200 -\n",
      "127.0.0.1 - - [01/Jun/2023 19:44:00] \"POST /_dash-update-component HTTP/1.1\" 200 -\n",
      "127.0.0.1 - - [01/Jun/2023 19:44:01] \"POST /_dash-update-component HTTP/1.1\" 200 -\n",
      "127.0.0.1 - - [01/Jun/2023 19:44:01] \"POST /_dash-update-component HTTP/1.1\" 200 -\n",
      "127.0.0.1 - - [01/Jun/2023 19:44:01] \"POST /_dash-update-component HTTP/1.1\" 200 -\n",
      "127.0.0.1 - - [01/Jun/2023 19:44:09] \"POST /_dash-update-component HTTP/1.1\" 200 -\n",
      "127.0.0.1 - - [01/Jun/2023 19:44:09] \"POST /_dash-update-component HTTP/1.1\" 200 -\n",
      "127.0.0.1 - - [01/Jun/2023 19:44:09] \"POST /_dash-update-component HTTP/1.1\" 200 -\n",
      "127.0.0.1 - - [01/Jun/2023 19:44:09] \"POST /_dash-update-component HTTP/1.1\" 200 -\n",
      "127.0.0.1 - - [01/Jun/2023 19:44:09] \"POST /_dash-update-component HTTP/1.1\" 200 -\n",
      "127.0.0.1 - - [01/Jun/2023 19:44:10] \"POST /_dash-update-component HTTP/1.1\" 200 -\n",
      "127.0.0.1 - - [01/Jun/2023 19:44:10] \"POST /_dash-update-component HTTP/1.1\" 200 -\n",
      "127.0.0.1 - - [01/Jun/2023 19:44:11] \"POST /_dash-update-component HTTP/1.1\" 200 -\n",
      "127.0.0.1 - - [01/Jun/2023 19:44:11] \"POST /_dash-update-component HTTP/1.1\" 200 -\n",
      "127.0.0.1 - - [01/Jun/2023 19:44:12] \"POST /_dash-update-component HTTP/1.1\" 200 -\n",
      "127.0.0.1 - - [01/Jun/2023 19:44:12] \"POST /_dash-update-component HTTP/1.1\" 200 -\n",
      "127.0.0.1 - - [01/Jun/2023 19:44:12] \"POST /_dash-update-component HTTP/1.1\" 200 -\n",
      "127.0.0.1 - - [01/Jun/2023 19:44:12] \"POST /_dash-update-component HTTP/1.1\" 200 -\n",
      "127.0.0.1 - - [01/Jun/2023 19:44:13] \"POST /_dash-update-component HTTP/1.1\" 200 -\n",
      "127.0.0.1 - - [01/Jun/2023 19:44:14] \"POST /_dash-update-component HTTP/1.1\" 200 -\n",
      "127.0.0.1 - - [01/Jun/2023 19:44:15] \"POST /_dash-update-component HTTP/1.1\" 200 -\n",
      "127.0.0.1 - - [01/Jun/2023 19:44:15] \"POST /_dash-update-component HTTP/1.1\" 200 -\n",
      "127.0.0.1 - - [01/Jun/2023 19:44:15] \"POST /_dash-update-component HTTP/1.1\" 200 -\n",
      "127.0.0.1 - - [01/Jun/2023 19:44:16] \"POST /_dash-update-component HTTP/1.1\" 200 -\n"
     ]
    }
   ],
   "source": [
    "if __name__ == '__main__':\n",
    "    app.run_server()"
   ]
  },
  {
   "cell_type": "code",
   "execution_count": null,
   "metadata": {},
   "outputs": [],
   "source": []
  }
 ],
 "metadata": {
  "kernelspec": {
   "display_name": "Python 3",
   "language": "python",
   "name": "python3"
  },
  "language_info": {
   "codemirror_mode": {
    "name": "ipython",
    "version": 3
   },
   "file_extension": ".py",
   "mimetype": "text/x-python",
   "name": "python",
   "nbconvert_exporter": "python",
   "pygments_lexer": "ipython3",
   "version": "3.11.1"
  },
  "orig_nbformat": 4
 },
 "nbformat": 4,
 "nbformat_minor": 2
}

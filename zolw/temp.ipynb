{
 "cells": [
  {
   "cell_type": "code",
   "execution_count": 57,
   "metadata": {},
   "outputs": [],
   "source": [
    "import numpy as np\n",
    "import pandas as pd\n",
    "from geopy.geocoders import Nominatim\n",
    "from geopy.extra.rate_limiter import RateLimiter\n",
    "import pycountry_convert as pc\n",
    "\n",
    "from pprint import pprint\n",
    "from typing import Tuple\n",
    "\n",
    "from tqdm import tqdm\n",
    "tqdm.pandas()"
   ]
  },
  {
   "cell_type": "code",
   "execution_count": 58,
   "metadata": {},
   "outputs": [
    {
     "data": {
      "text/html": [
       "<div>\n",
       "<style scoped>\n",
       "    .dataframe tbody tr th:only-of-type {\n",
       "        vertical-align: middle;\n",
       "    }\n",
       "\n",
       "    .dataframe tbody tr th {\n",
       "        vertical-align: top;\n",
       "    }\n",
       "\n",
       "    .dataframe thead th {\n",
       "        text-align: right;\n",
       "    }\n",
       "</style>\n",
       "<table border=\"1\" class=\"dataframe\">\n",
       "  <thead>\n",
       "    <tr style=\"text-align: right;\">\n",
       "      <th></th>\n",
       "      <th>CUSTOMER_NAME</th>\n",
       "      <th>PLANT_NAME</th>\n",
       "      <th>LATITUDE</th>\n",
       "      <th>LONGITUDE</th>\n",
       "      <th>ELEVATION</th>\n",
       "      <th>FUEL_N2_MOL_PCT</th>\n",
       "      <th>FUEL_MW</th>\n",
       "      <th>FUEL_LHV</th>\n",
       "      <th>CO2_FUEL_RATIO</th>\n",
       "    </tr>\n",
       "  </thead>\n",
       "  <tbody>\n",
       "    <tr>\n",
       "      <th>0</th>\n",
       "      <td>SPIFFY</td>\n",
       "      <td>SPIRITUAL-POLECAT</td>\n",
       "      <td>61.170356</td>\n",
       "      <td>42.874767</td>\n",
       "      <td>112.000000</td>\n",
       "      <td>4.445063</td>\n",
       "      <td>16.572225</td>\n",
       "      <td>21514.222365</td>\n",
       "      <td>2.621803</td>\n",
       "    </tr>\n",
       "    <tr>\n",
       "      <th>1</th>\n",
       "      <td>NONCHALANT</td>\n",
       "      <td>NIFTY-ROOK</td>\n",
       "      <td>37.554515</td>\n",
       "      <td>49.908217</td>\n",
       "      <td>-29.000000</td>\n",
       "      <td>1.053145</td>\n",
       "      <td>16.166097</td>\n",
       "      <td>21526.470829</td>\n",
       "      <td>2.714870</td>\n",
       "    </tr>\n",
       "    <tr>\n",
       "      <th>2</th>\n",
       "      <td>NONCHALANT</td>\n",
       "      <td>PREHISTORIC-PETREL</td>\n",
       "      <td>29.190866</td>\n",
       "      <td>60.491702</td>\n",
       "      <td>1552.426025</td>\n",
       "      <td>10.298848</td>\n",
       "      <td>17.273122</td>\n",
       "      <td>21494.438672</td>\n",
       "      <td>2.461189</td>\n",
       "    </tr>\n",
       "    <tr>\n",
       "      <th>3</th>\n",
       "      <td>NONCHALANT</td>\n",
       "      <td>THERAPEUTIC-LIONFISH</td>\n",
       "      <td>13.253365</td>\n",
       "      <td>76.411056</td>\n",
       "      <td>867.591553</td>\n",
       "      <td>13.188814</td>\n",
       "      <td>17.619149</td>\n",
       "      <td>21485.251979</td>\n",
       "      <td>2.381895</td>\n",
       "    </tr>\n",
       "    <tr>\n",
       "      <th>4</th>\n",
       "      <td>SOFT</td>\n",
       "      <td>ABORIGINAL-PICULET</td>\n",
       "      <td>-68.632002</td>\n",
       "      <td>66.155301</td>\n",
       "      <td>1253.152832</td>\n",
       "      <td>7.581916</td>\n",
       "      <td>16.947813</td>\n",
       "      <td>21503.417436</td>\n",
       "      <td>2.535736</td>\n",
       "    </tr>\n",
       "  </tbody>\n",
       "</table>\n",
       "</div>"
      ],
      "text/plain": [
       "  CUSTOMER_NAME            PLANT_NAME   LATITUDE  LONGITUDE    ELEVATION  \\\n",
       "0        SPIFFY     SPIRITUAL-POLECAT  61.170356  42.874767   112.000000   \n",
       "1    NONCHALANT            NIFTY-ROOK  37.554515  49.908217   -29.000000   \n",
       "2    NONCHALANT    PREHISTORIC-PETREL  29.190866  60.491702  1552.426025   \n",
       "3    NONCHALANT  THERAPEUTIC-LIONFISH  13.253365  76.411056   867.591553   \n",
       "4          SOFT    ABORIGINAL-PICULET -68.632002  66.155301  1253.152832   \n",
       "\n",
       "   FUEL_N2_MOL_PCT    FUEL_MW      FUEL_LHV  CO2_FUEL_RATIO  \n",
       "0         4.445063  16.572225  21514.222365        2.621803  \n",
       "1         1.053145  16.166097  21526.470829        2.714870  \n",
       "2        10.298848  17.273122  21494.438672        2.461189  \n",
       "3        13.188814  17.619149  21485.251979        2.381895  \n",
       "4         7.581916  16.947813  21503.417436        2.535736  "
      ]
     },
     "execution_count": 58,
     "metadata": {},
     "output_type": "execute_result"
    }
   ],
   "source": [
    "site_df = pd.read_csv(\"https://gist.githubusercontent.com/benthecoder/7edb951977fdc5e80ad6a75ffb1626a1/raw/fb2f3a7a72b0dcfb2d137d691e5b64a3169281a3/site_metadata.csv\")\n",
    "site_df.head()"
   ]
  },
  {
   "cell_type": "code",
   "execution_count": 59,
   "metadata": {},
   "outputs": [
    {
     "data": {
      "text/plain": [
       "array([61.17035566, 42.87476723])"
      ]
     },
     "execution_count": 59,
     "metadata": {},
     "output_type": "execute_result"
    }
   ],
   "source": [
    "site_df[[\"LATITUDE\", \"LONGITUDE\"]].values[0]"
   ]
  },
  {
   "cell_type": "code",
   "execution_count": 60,
   "metadata": {},
   "outputs": [],
   "source": [
    "locator = Nominatim(user_agent=\"<APP_NAME>\")\n",
    "location = locator.reverse(\"61.170356,42.874767\", language=\"en\")\n"
   ]
  },
  {
   "cell_type": "code",
   "execution_count": null,
   "metadata": {},
   "outputs": [],
   "source": []
  },
  {
   "cell_type": "code",
   "execution_count": 61,
   "metadata": {},
   "outputs": [
    {
     "name": "stdout",
     "output_type": "stream",
     "text": [
      "{'ISO3166-2-lvl4': 'RU-ARK',\n",
      " 'country': 'Russia',\n",
      " 'country_code': 'ru',\n",
      " 'county': 'Устьянский муниципальный округ',\n",
      " 'region': 'Northwestern Federal District',\n",
      " 'state': 'Arkhangelsk Oblast'}\n"
     ]
    }
   ],
   "source": [
    "pprint(location.raw[\"address\"])"
   ]
  },
  {
   "cell_type": "code",
   "execution_count": 62,
   "metadata": {},
   "outputs": [
    {
     "data": {
      "text/plain": [
       "'EU'"
      ]
     },
     "execution_count": 62,
     "metadata": {},
     "output_type": "execute_result"
    }
   ],
   "source": [
    "pc.country_alpha2_to_continent_code(\"RU\") # only uppercase"
   ]
  },
  {
   "cell_type": "code",
   "execution_count": 63,
   "metadata": {},
   "outputs": [
    {
     "data": {
      "text/plain": [
       "'Europe'"
      ]
     },
     "execution_count": 63,
     "metadata": {},
     "output_type": "execute_result"
    }
   ],
   "source": [
    "def get_continent_name(continent_code: str) -> str:\n",
    "    continent_dict = {\n",
    "        \"NA\": \"North America\",\n",
    "        \"SA\": \"South America\",\n",
    "        \"AS\": \"Asia\",\n",
    "        \"AF\": \"Africa\",\n",
    "        \"OC\": \"Oceania\",\n",
    "        \"EU\": \"Europe\",\n",
    "        \"AQ\" : \"Antarctica\"\n",
    "    }\n",
    "    return continent_dict[continent_code]\n",
    "\n",
    "get_continent_name(\"EU\")"
   ]
  },
  {
   "cell_type": "code",
   "execution_count": 82,
   "metadata": {},
   "outputs": [],
   "source": [
    "geolocator = Nominatim(user_agent=\"geoapiExercises\")\n",
    "def city_state_country(lat, long):\n",
    "    location = geolocator.reverse([72.0, 26.0], exactly_one=True)\n",
    "    if location is None:\n",
    "        continent_code = \"aq\"\n",
    "    else:\n",
    "        address = location.raw['address']\n",
    "        continent_code = address.get('country_code', '')\n",
    "    return continent_code.upper()"
   ]
  },
  {
   "cell_type": "code",
   "execution_count": 81,
   "metadata": {},
   "outputs": [
    {
     "ename": "KeyError",
     "evalue": "\"Invalid Country Alpha-2 code: 'AQ'\"",
     "output_type": "error",
     "traceback": [
      "\u001b[1;31m---------------------------------------------------------------------------\u001b[0m",
      "\u001b[1;31mKeyError\u001b[0m                                  Traceback (most recent call last)",
      "Cell \u001b[1;32mIn[81], line 1\u001b[0m\n\u001b[1;32m----> 1\u001b[0m aaa \u001b[39m=\u001b[39m pc\u001b[39m.\u001b[39;49mcountry_alpha2_to_continent_code(city_state_country(\u001b[39m1\u001b[39;49m ,\u001b[39m1\u001b[39;49m))\n",
      "File \u001b[1;32m~\\AppData\\Roaming\\Python\\Python311\\site-packages\\pycountry_convert\\convert_country_alpha2_to_continent_code.py:265\u001b[0m, in \u001b[0;36mcountry_alpha2_to_continent_code\u001b[1;34m(country_2_code)\u001b[0m\n\u001b[0;32m    262\u001b[0m     \u001b[39mraise\u001b[39;00m \u001b[39mKeyError\u001b[39;00m(\u001b[39m\"\u001b[39m\u001b[39mInvalid Country Alpha-2 code: \u001b[39m\u001b[39m'\u001b[39m\u001b[39m{0}\u001b[39;00m\u001b[39m'\u001b[39m\u001b[39m\"\u001b[39m\u001b[39m.\u001b[39mformat(country_2_code))\n\u001b[0;32m    264\u001b[0m \u001b[39mif\u001b[39;00m country_2_code \u001b[39mnot\u001b[39;00m \u001b[39min\u001b[39;00m COUNTRY_ALPHA2_TO_CONTINENT_CODE:\n\u001b[1;32m--> 265\u001b[0m     \u001b[39mraise\u001b[39;00m \u001b[39mKeyError\u001b[39;00m(\u001b[39m\"\u001b[39m\u001b[39mInvalid Country Alpha-2 code: \u001b[39m\u001b[39m'\u001b[39m\u001b[39m{0}\u001b[39;00m\u001b[39m'\u001b[39m\u001b[39m\"\u001b[39m\u001b[39m.\u001b[39mformat(country_2_code))\n\u001b[0;32m    267\u001b[0m \u001b[39mreturn\u001b[39;00m COUNTRY_ALPHA2_TO_CONTINENT_CODE[country_2_code]\n",
      "\u001b[1;31mKeyError\u001b[0m: \"Invalid Country Alpha-2 code: 'AQ'\""
     ]
    }
   ],
   "source": [
    "aaa = pc.country_alpha2_to_continent_code(city_state_country(72.0, 26.0))"
   ]
  },
  {
   "cell_type": "code",
   "execution_count": null,
   "metadata": {},
   "outputs": [],
   "source": []
  },
  {
   "cell_type": "code",
   "execution_count": null,
   "metadata": {},
   "outputs": [],
   "source": []
  },
  {
   "cell_type": "code",
   "execution_count": null,
   "metadata": {},
   "outputs": [],
   "source": []
  },
  {
   "cell_type": "code",
   "execution_count": null,
   "metadata": {},
   "outputs": [],
   "source": []
  },
  {
   "cell_type": "code",
   "execution_count": null,
   "metadata": {},
   "outputs": [],
   "source": []
  }
 ],
 "metadata": {
  "kernelspec": {
   "display_name": "Python 3",
   "language": "python",
   "name": "python3"
  },
  "language_info": {
   "codemirror_mode": {
    "name": "ipython",
    "version": 3
   },
   "file_extension": ".py",
   "mimetype": "text/x-python",
   "name": "python",
   "nbconvert_exporter": "python",
   "pygments_lexer": "ipython3",
   "version": "3.11.1"
  },
  "orig_nbformat": 4
 },
 "nbformat": 4,
 "nbformat_minor": 2
}
